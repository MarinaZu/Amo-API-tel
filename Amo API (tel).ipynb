{
 "cells": [
  {
   "cell_type": "code",
   "execution_count": 1,
   "metadata": {},
   "outputs": [],
   "source": [
    "import numpy as np\n",
    "import pandas as pd\n",
    "import re\n",
    "\n",
    "from amocrm import BaseContact, BaseLead, amo_settings, fields\n",
    "amo_settings.set('login', 'token', 'name')\n",
    "\n",
    "class Lead(BaseLead):\n",
    "    contact_model = BaseContact\n",
    "    contacts = fields.ManyForeignField(BaseContact, 'linked_leads_id')\n",
    "    \n",
    "class Contact(BaseContact):\n",
    "    leads_model = BaseLead\n",
    "    leads = fields.ManyForeignField(BaseLead, 'linked_leads_id')\n",
    "    phone = fields.EnumCustomField(u'Телефон', enum='WORK')"
   ]
  },
  {
   "cell_type": "markdown",
   "metadata": {},
   "source": [
    "Подключились к API, создали модели"
   ]
  },
  {
   "cell_type": "code",
   "execution_count": 7,
   "metadata": {
    "scrolled": false
   },
   "outputs": [],
   "source": [
    "tel = []\n",
    "for i in Contact.objects.all():\n",
    "    lead = i.leads\n",
    "    for j in lead:\n",
    "        if j.pipeline == \"Название воронки 1\" or j.pipeline == \"Название воронки 2\":\n",
    "            if i.phone != None and type(i.phone) == str:\n",
    "                tel.append(i.phone)\n",
    "            if i.phone != None and type(i.phone) == list:\n",
    "                for k in i.phone:\n",
    "                    tel.append(k)"
   ]
  },
  {
   "cell_type": "markdown",
   "metadata": {},
   "source": [
    "Сохранили телефоны в список"
   ]
  },
  {
   "cell_type": "code",
   "execution_count": 8,
   "metadata": {},
   "outputs": [],
   "source": [
    "s_tel = pd.Series(tel)"
   ]
  },
  {
   "cell_type": "markdown",
   "metadata": {},
   "source": [
    "Сохранили телефоны в DF"
   ]
  },
  {
   "cell_type": "code",
   "execution_count": 1,
   "metadata": {},
   "outputs": [],
   "source": [
    "tel2 = []\n",
    "for index in s_tel:\n",
    "    index=index.replace('+','').replace('-','').replace('_','').replace('±','').replace(' ','').replace('(','').replace(')','')\n",
    "    if len(index) == 11 and index[0] == '7':\n",
    "        tel2.append(index)\n",
    "    if len(index) == 10 and index[0] == '9':\n",
    "        index = '7' + index\n",
    "        tel2.append(index)\n",
    "    if len(index) == 11 and index[0] == '8':\n",
    "        index = '7' + index[1:]\n",
    "        tel2.append(index)\n",
    "s_tel_is = pd.Series(tel2)\n",
    "s_tel_is = s_tel_is.drop_duplicates()"
   ]
  },
  {
   "cell_type": "markdown",
   "metadata": {},
   "source": [
    "Приводим телефоны к единому виду, удаляем дубликаты"
   ]
  },
  {
   "cell_type": "code",
   "execution_count": null,
   "metadata": {},
   "outputs": [],
   "source": [
    "s_tel_is.to_excel('...\\\\Tel_new.xlsx', startrow=0, index=False)"
   ]
  },
  {
   "cell_type": "markdown",
   "metadata": {},
   "source": [
    "Записываем телефоны в файл"
   ]
  }
 ],
 "metadata": {
  "kernelspec": {
   "display_name": "Python 3",
   "language": "python",
   "name": "python3"
  },
  "language_info": {
   "codemirror_mode": {
    "name": "ipython",
    "version": 3
   },
   "file_extension": ".py",
   "mimetype": "text/x-python",
   "name": "python",
   "nbconvert_exporter": "python",
   "pygments_lexer": "ipython3",
   "version": "3.6.5"
  }
 },
 "nbformat": 4,
 "nbformat_minor": 2
}
